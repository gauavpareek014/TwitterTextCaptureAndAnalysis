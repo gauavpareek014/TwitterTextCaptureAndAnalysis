{
 "cells": [
  {
   "cell_type": "markdown",
   "metadata": {},
   "source": [
    "### Gaurav Pareek (801020037)"
   ]
  },
  {
   "cell_type": "code",
   "execution_count": 1,
   "metadata": {
    "collapsed": true
   },
   "outputs": [],
   "source": [
    "import tweepy\n",
    "import time"
   ]
  },
  {
   "cell_type": "code",
   "execution_count": 2,
   "metadata": {},
   "outputs": [
    {
     "name": "stdout",
     "output_type": "stream",
     "text": [
      "Enter the search string Obama\n",
      "Enter the from date (YYYY-MM-DD format) 2018-02-02\n",
      "Enter the to data (YYYY-MM-DD format) 2018-04-02\n",
      "Enter the number of tweets you want to retrieve for the search string 100\n",
      "Tweets retrieved  100\n"
     ]
    }
   ],
   "source": [
    "ACCESS_TOKEN = '151445560-31q1c7aL0sOlyBTJy2fdaceiA5bDF4I3N4ECZ72l'\n",
    "ACCESS_SECRET = 'xZ6PWg2dlEymB3IRnLmSxDiPHGxpvYqJyaqVb31jD3yBw'\n",
    "CONSUMER_KEY = 'hGC8cBotnf6HKf0Z5GZnjJ1jI'\n",
    "CONSUMER_SECRET = 'FscvEOdJMHqPS9GQPnZJWy9ZtZC9Ez19dh4KK6joQt1n9ClROm'\n",
    "SEARCH = input(\"Enter the search string \")\n",
    "FROM = input(\"Enter the from date (YYYY-MM-DD format) \")\n",
    "TO = input(\"Enter the to data (YYYY-MM-DD format) \")\n",
    "INPUT_FILE_PATH = './'+SEARCH+'.txt'\n",
    "\n",
    "num=int(input(\"Enter the number of tweets you want to retrieve for the search string \"))\n",
    "auth = tweepy.auth.OAuthHandler(CONSUMER_KEY, CONSUMER_SECRET)\n",
    "auth.set_access_token(ACCESS_TOKEN, ACCESS_SECRET)\n",
    "api = tweepy.API(auth)\n",
    "i=0;\n",
    "\n",
    "f = open(INPUT_FILE_PATH, 'w', encoding='utf-8')\n",
    "\n",
    "#tweets = tweepy.Cursor(api.search, q=SEARCH, rpp=100, count=20, since=FROM, until=TO, lang=\"en\").items(num)\n",
    "tweets = tweepy.Cursor(api.search, q=(\"{}&since:{}&until:{}\").format(SEARCH,FROM,TO), rpp=100, count=20, result_type=\"recent\", include_entities=True, lang=\"en\").items(num)\n",
    "\n",
    "for res in tweets:\n",
    "   i+=1\n",
    "   f.write(res.user.screen_name)\n",
    "   f.write(' ')\n",
    "   f.write('[')\n",
    "   f.write(res.created_at.strftime(\"%d/%b/%Y:%H:%M:%S %Z\"))\n",
    "   f.write(']')    \n",
    "   f.write(\" \")\n",
    "   f.write('\"')\n",
    "   f.write(res.text.replace('\\n', ''))\n",
    "   f.write('\"')\n",
    "   f.write(\" \")\n",
    "   f.write(str(res.user.followers_count))\n",
    "   f.write(\" \")\n",
    "   f.write(str(res.retweet_count))\n",
    "   f.write('\\n')\n",
    "f.close\n",
    "print(\"Tweets retrieved \", i)"
   ]
  },
  {
   "cell_type": "markdown",
   "metadata": {},
   "source": [
    "#### References\n",
    "https://stackoverflow.com/questions/12703842/how-to-tokenize-natural-english-text-in-an-input-file-in-python\n",
    "https://stackoverflow.com/questions/9233027/unicodedecodeerror-charmap-codec-cant-decode-byte-x-in-position-y-character\n",
    "https://stackoverflow.com/questions/12703842/how-to-tokenize-natural-english-text-in-an-input-file-in-python\n",
    "https://stackoverflow.com/questions/12070193/why-is-datetime-strptime-not-working-in-this-simple-example"
   ]
  },
  {
   "cell_type": "code",
   "execution_count": 3,
   "metadata": {
    "collapsed": true
   },
   "outputs": [],
   "source": [
    "import nltk\n",
    "from nltk import word_tokenize\n",
    "import pandas as pd\n",
    "import numpy as np\n",
    "from datetime import datetime"
   ]
  },
  {
   "cell_type": "code",
   "execution_count": 4,
   "metadata": {
    "collapsed": true
   },
   "outputs": [],
   "source": [
    "with open(INPUT_FILE_PATH,encoding='utf8') as f:\n",
    "    contentData = f.readlines()"
   ]
  },
  {
   "cell_type": "code",
   "execution_count": 5,
   "metadata": {},
   "outputs": [
    {
     "data": {
      "text/plain": [
       "['liberalbasher33 [04/Apr/2018:21:18:17 ] \"RT @DrMartyFox: ATTN: #LyingLiberals #PresidentTrump Did NOT End #DACA #DACA Is An Illegal Obama Unconstitutional Executive Order That…\" 602 315\\n',\n",
       " 'FreeSpeechBot [04/Apr/2018:21:18:17 ] \"RT @MZHemingway: Byron York: Did Obama White House Coordinate With DOJ, FBI Against Trump?  https://t.co/1aJFxvkUiQ\" 2271 1382\\n',\n",
       " 'Kcfan51 [04/Apr/2018:21:18:16 ] \"RT @bartmckinley: Judicial Watch: DOJ Records Show Obama Administration Helped Fund George Soros’ Left-Wing Political Activities in Albania…\" 123 23\\n',\n",
       " 'Adebroutelles [04/Apr/2018:21:18:16 ] \"RT @Independent: The difference between Trump and Obama on Martin Luther King day https://t.co/69HV83yFym\" 156 19\\n',\n",
       " 'LIVorLetReiv [04/Apr/2018:21:18:14 ] \"RT @nowthisnews: President Obama and civil rights icon John Lewis discussed the importance of social justice on the 50th anniversary of MLK…\" 431 242\\n',\n",
       " 'judyboisseau [04/Apr/2018:21:18:13 ] \"RT @dwhfarmall: @JudicialWatch Why is DOJ not arresting Soros? And what about Obama sending taxpayer money for Soros’ dirty deeds!! No wond…\" 30 12\\n',\n",
       " 'hotrocksyes [04/Apr/2018:21:18:13 ] \"Leaked Texts Suggest Coordination Between Obama White House, CIA, FBI And Dems To Launch Trump-Russia Probe | Zero… https://t.co/zbSoEIwrOB\" 2998 0\\n',\n",
       " 'Brockr1967Brock [04/Apr/2018:21:18:13 ] \"@wmcneely1227 @FriedFish2 @msmcnair16 @joss Trump killed Obama\\'s job killing E ecutive orders... The left was screa… https://t.co/LSBhzj0ZsM\" 2459 0\\n',\n",
       " 'odogpundit [04/Apr/2018:21:18:13 ] \"RT @GrizzleMeister: POTUS Trump fills his cabinet positions w/right person, 4right job, at the right time. Bolton will serve well as NSA &amp;e…\" 153 412\\n',\n",
       " 'dgcnlv [04/Apr/2018:21:18:13 ] \"RT @bonniemurphy: 🍺Bush and Obama Did Same Thing 🥃Trump would not be first president to send National Guard soldiers to US-Mexico border…\" 1986 385\\n',\n",
       " 'Jennifer_Resist [04/Apr/2018:21:18:12 ] \"RT @CyrusMMcQueen: Trump cheats on Elections, Wives, AND Diets... yet he has the utter temerity, the unmitigated gall, to attach the word c…\" 4008 274\\n',\n",
       " 'katjamana [04/Apr/2018:21:18:12 ] \"RT @CB618444: 🔊#Trumps approval rating jumps 2 51% compared 2 #Obama\\'s at 46% same time on the job.  What\\'s that tell u?  Polls lie, so @PO…\" 351 58\\n',\n",
       " 'gulliveron21 [04/Apr/2018:21:18:12 ] \"RT @RedNationRising: Just a reminder of who Demonrats in Congress choose to represent instead of American workers, vets, kids, &amp; seniors. A…\" 52 22\\n',\n",
       " 'fixurface215 [04/Apr/2018:21:18:11 ] \"Watch Congressman John Lewis and Barack Obama honor Martin Luther King Jr. in roundtable… https://t.co/qNtPcJSlQH\" 919 0\\n',\n",
       " 'keith_blankens [04/Apr/2018:21:18:11 ] \"RT @ObamaFoundation: This week—50 years since Dr. Martin Luther King, Jr. was killed—@BarackObama and @RepJohnLewis sat down with a group o…\" 265 8553\\n',\n",
       " 'EmoryGoodrich [04/Apr/2018:21:18:11 ] \"RT @Midwood49: #TheFive Dems and GOPs have voted on a built parts of a border wall before. Bush and Obama sent troops to the border. Libs…\" 2867 5\\n',\n",
       " 'ressiger1111 [04/Apr/2018:21:18:11 ] \"RT @aidenzdad: Homeland security stopped every MS13 members at the borders around the UNITED STATES 3 1/2 years ago. Barack Obama released…\" 4464 3\\n',\n",
       " 'EricJoh37288055 [04/Apr/2018:21:18:11 ] \"RT @jackandbaxter: @joss This thread is such a sad commentary on the state of what Obama did to this country. The comatose awoke to find so…\" 2110 3\\n',\n",
       " 'whereisjustice0 [04/Apr/2018:21:18:10 ] \"RT @PatriotGeorgia: FLASHBACK: Obama Flew Illegal Aliens to US from Central America - Offered Them AC, Cable TV,  Zumba Classes https://t.c…\" 11785 3\\n',\n",
       " 'LiberalFantasy [04/Apr/2018:21:18:10 ] \"@cheaptrickone @ericbolling @USPS @realDonaldTrump pretty sure we have Obama era FEMA camps that could accommodate… https://t.co/79zFnrf2Zb\" 1999 0\\n',\n",
       " 'Jan98390225 [04/Apr/2018:21:18:10 ] \"RT @Politcswatch: A tough guy is someone we need, @TheJuanWilliams, because Obama was not tough at all. #TheFive\" 432 2\\n',\n",
       " 'Kcfan51 [04/Apr/2018:21:18:10 ] \"RT @JudicialWatch: BREAKING: Judicial Watch obtained 32 pages of records showing that the Obama administration sent U.S. taxpayer funds ove…\" 123 1667\\n',\n",
       " 'Iron_Nail [04/Apr/2018:21:18:10 ] \"RT @realDonaldTrump: Our Border Laws are very weak while those of Mexico &amp; Canada are very strong. Congress must change these Obama era, an…\" 1270 18166\\n',\n",
       " 'joecoppp [04/Apr/2018:21:18:10 ] \"RT @heatherjones333: JUDICIAL WATCH: Records Show Obama Admin Used Millions in Taxpayer Money to Fund Soros\\' Left-Wing Political Activities…\" 1470 6\\n',\n",
       " 'hmmngbrd508 [04/Apr/2018:21:18:09 ] \"RT @PatriotArmy50: The loony left and MSM talk about Trumps sexual past with beautiful women but never bring up Larry Sinclair, orally plea…\" 5358 1000\\n',\n",
       " 'Frisco7str [04/Apr/2018:21:18:09 ] \"RT @thetoyman1: #Five @TheJuanWilliams going off on @POTUS sending National Guard 2 the Border. Off course. When Obama did it, he praised h…\" 1250 5\\n',\n",
       " 'Djosephcorr [04/Apr/2018:21:18:08 ] \"RT @ObamaFoundation: This week—50 years since Dr. Martin Luther King, Jr. was killed—@BarackObama and @RepJohnLewis sat down with a group o…\" 680 8553\\n',\n",
       " 'JackieLockingt1 [04/Apr/2018:21:18:08 ] \"RT @charliekirk11: Obama approval rating 4/2/10 - 46%Trump approval rating 4/2/18 — 50%\" 103 7493\\n',\n",
       " 'JulesPregler [04/Apr/2018:21:18:08 ] \"RT @realDonaldTrump: Our Border Laws are very weak while those of Mexico &amp; Canada are very strong. Congress must change these Obama era, an…\" 181 18166\\n',\n",
       " 'Madcapbill [04/Apr/2018:21:18:08 ] \"RT @chuckwoolery: I find it interesting and appalling that we have a special counsel Mueller, investigating Trump for every thing we know t…\" 419 1511\\n',\n",
       " 'tr1168 [04/Apr/2018:21:18:07 ] \"RT @IWillRedPillU: I just want to make sure I understand thisYouTube ShooterIranianProbably HezbollahInsanely CrazyCame in Under Obama…\" 224 629\\n',\n",
       " 'nur_die_Ruhe [04/Apr/2018:21:18:07 ] \"RT @Cameron_Gray: In 2013, a rodeo clown wore an Obama mask, and was permanently banned from performing ever againIn 2018, this celebrity…\" 97 496\\n',\n",
       " 'RealTrumpLady [04/Apr/2018:21:18:07 ] \"RT @Trumpsignguy: Mexicans respect statues &amp; Historical Monuments.Unlike Democrats looking to tear down American History!The only statues…\" 2875 2\\n',\n",
       " 'MeedgeKnowsBest [04/Apr/2018:21:18:06 ] \"RT @Liz_Wheeler: Waiting for liberals to condemn this hateful rhetoric calling for Trump to \"die, just die\" with the same outrage they woul…\" 4679 244\\n',\n",
       " 'EmmaTurnerBN [04/Apr/2018:21:18:06 ] \"Violently Assaulted Administrator to Meet with DeVos on Obama School Leniency Policy https://t.co/o4ccz7nsLl\" 11222 0\\n',\n",
       " 'NMatte33 [04/Apr/2018:21:18:06 ] \"RT @CoreyLMJones: Tump’s approval rating(50%), is higher than Obama’s was at the same point in his presidency(46%).The people aren’t agai…\" 2483 686\\n',\n",
       " 'novotebuying [04/Apr/2018:21:18:05 ] \"RT @IngrahamAngle: Remember when Obama promised to get tough on China? He didn’t deliver.  https://t.co/xKjPMzvQwI\" 479 454\\n',\n",
       " 'clemire3 [04/Apr/2018:21:18:05 ] \"Exactly, but they do prefer brown skinned ppl, n fact they r down right predigest against Colonialist descendants.… https://t.co/Yr3YL9X2Ar\" 1887 0\\n',\n",
       " 'BallybunionBog [04/Apr/2018:21:18:05 ] \"RT @AmericanLuvSong: 🚨BOMBSHELL! 🚨From FBI\\'s own mouth...er, texts...adulterers Strzok and Page clearly indicated Obama was directly invo…\" 2746 211\\n',\n",
       " 'bbmom21 [04/Apr/2018:21:18:03 ] \"RT @TeaPainUSA: Trump called the former president of the US “cheatin’ Obama.”  Trump’s ex-wives, mistresses and sexual harassment victims c…\" 70 3866\\n',\n",
       " 'Bighands20 [04/Apr/2018:21:18:03 ] \"@Vorpality @Dianehi28018296 @stephan_vanhoek @robdelaney U cant be the most powerful nation in the world with an Obama weak military\" 94 0\\n',\n",
       " 'jazzyjean123 [04/Apr/2018:21:18:03 ] \"RT @WMCActionNews5: Former President Barack Obama took time to address the crowd in Memphis for MLK50, acknowledging the progress Rev. Dr.…\" 257 6\\n',\n",
       " 'Berlidge [04/Apr/2018:21:18:02 ] \"RT @Tarver8595: @KimStrassel $50/night in dc is not “reasonable market value” and please find where Any Obama official EVER flew 1st class,…\" 2468 133\\n',\n",
       " 'HaleyKHorton [04/Apr/2018:21:18:02 ] \"RT @NormEisen: Ms. Strassel, that tweet is totally false. No Obama EPA head had Pruitt’s travel practices—not even close. By no reasonable…\" 666 8178\\n',\n",
       " 'aoafam [04/Apr/2018:21:18:02 ] \"RT @KimStrassel: This Pruitt flap is absurd. Obama EPA officials spent as much or more on travel. And career EPA ethics officials say he pa…\" 1423 3107\\n',\n",
       " 'Hankus12 [04/Apr/2018:21:18:02 ] \"RT @fujia39: @LouDobbs @realDonaldTrump You should organize a occupy DOJ to protest against RAT Rosenstein and his collusion with Mueller,…\" 2071 2\\n',\n",
       " 'bluesbuster11 [04/Apr/2018:21:18:02 ] \"RT @_VachelLindsay_: More and more detail emerging about Obama\\'s covert plan to supply the mullahs in Iran with cash, sanctions relief &amp; no…\" 10420 56\\n',\n",
       " 'ToyinOlanrewaj1 [04/Apr/2018:21:18:02 ] \"RT @blackenterprise: President Barack Obama shares a message of encouragement at the #MLK50 commemoration celebrating Dr. Martin Luther Kin…\" 161 13\\n',\n",
       " 'FarmerNC [04/Apr/2018:21:18:01 ] \"@zerohedge You mean the corrupt Mexican gov\\'t controlled by the drug cartels and the Obama Deep State CIA MS 13 gan… https://t.co/kHuEiEKUSZ\" 110 0\\n',\n",
       " 'hippadrone [04/Apr/2018:21:18:01 ] \"RT @jerome_corsi: PLEASE, enough already SOROS NEVER QUITS now we have \"Net Neutrality\" recycled - trying to sell GOP that this CENSORSHIP…\" 5324 97\\n',\n",
       " 'joan_upchurch [04/Apr/2018:21:18:01 ] \"RT @CHHolte: @gt007echo @Indianafortrump @joan_upchurch @_Diamond_Jim_ @Walsh3Sezwho @RepAdamSchiff Obama did not do that. Please stop lyin…\" 164 2\\n',\n",
       " 'scorpiohr [04/Apr/2018:21:18:00 ] \"Obama\\'s Tax Fraud - https://t.co/8DaVkqAF8B https://t.co/TJU10Vo0mh\" 2736 0\\n',\n",
       " 'KGibb123 [04/Apr/2018:21:18:00 ] \"RT @TrumpDailyNewss: Violently Assaulted Administrator to Meet with DeVos on Obama School Leniency Policy https://t.co/mJGKzI8T8x\" 261 1\\n',\n",
       " 'JayDeplorables [04/Apr/2018:21:18:00 ] \"@ThomasWillaims9 @Alba_Risen 78beersonwall: How big of an Amnesty do you want? Was 1.8 million dreamerAmnesty too l… https://t.co/z47kZNnjNv\" 18 0\\n',\n",
       " 'TalibKweli [04/Apr/2018:21:18:00 ] \"Im black. I’ve never been on welfare, I’ve never used wic, I’ve never used food stamps, never been to planned paren… https://t.co/dCVhkskZQb\" 1148701 0\\n',\n",
       " 'BordeauxRc [04/Apr/2018:21:17:59 ] \"RT @JudicialWatch: BREAKING: Judicial Watch obtained 32 pages of records showing that the Obama administration sent U.S. taxpayer funds ove…\" 132 1667\\n',\n",
       " 'arc7ek [04/Apr/2018:21:17:59 ] \"RT @Auburngirlx: 1. So what is the story behind the attempt by a BO administration official to get Argentina to sell Uranium to Iran under…\" 950 22\\n',\n",
       " 'artytrace [04/Apr/2018:21:17:59 ] \"RT @ChrisJZullo: Since Jan. 26th Dow Jones has fallen 3,000 points thanks to Donald Trump and his trade wars. This has wiped out $3 trillio…\" 2918 371\\n',\n",
       " 'pgerth [04/Apr/2018:21:17:59 ] \"RT @realDonaldTrump: Our Border Laws are very weak while those of Mexico &amp; Canada are very strong. Congress must change these Obama era, an…\" 591 18166\\n',\n",
       " 'AnonTechGuy912 [04/Apr/2018:21:17:58 ] \"@eugenegu Completely! Only a LUNATIC would do that!  https://t.co/Q97UEekv2i\" 142 0\\n',\n",
       " 'craigdmercer [04/Apr/2018:21:17:58 ] \"RT @FiveRights: For 5 yrs Obama told us we could not stop ISIS, couldn\\'t even contain them.Trump wiped out ISIS in 9 mos.O deliberately l…\" 78 1460\\n',\n",
       " 'okthunderkgirl [04/Apr/2018:21:17:58 ] \"@OBK_OneBadKat @scott_frenger I’ll never forget press conference Putin gave in 2016 after Obama kicked out Russian… https://t.co/LqnmOU45Mm\" 757 0\\n',\n",
       " 'BartjeDordt [04/Apr/2018:21:17:57 ] \"RT @SwampyTrump: trump calling Obama “Cheatin” is like Harvey Weinstein calling Mother Teresa  “Handsy”.\" 206 96\\n',\n",
       " 'FenucciMiles [04/Apr/2018:21:17:57 ] \"RT @_VachelLindsay_: This is a bombshell article. MUST read.If true, it reframes the Clinton/Obama framing of Team Trump, as mostly a UK…\" 472 140\\n',\n",
       " '2k7man88 [04/Apr/2018:21:17:56 ] \"RT @OliverMcGee: Retweet so your friends see this. Obama \"This is my last election. After my election I have more flexibility.\" Russian Pre…\" 33 17212\\n',\n",
       " 'krisschrod [04/Apr/2018:21:17:56 ] \"@dbongino Naw that was Obama&amp; Hildabeast would of been Worse !! President Trump is Doing Great Things !!!\" 120 0\\n',\n",
       " 'irishgilly [04/Apr/2018:21:17:56 ] \"3/If our nation came first, McConnell wouldn’t have blocked Garland, wouldn’t have worked daily to stymie Obama &amp; t… https://t.co/Y0aWl0eQF2\" 5182 0\\n',\n",
       " 'kskwit [04/Apr/2018:21:17:56 ] \"RT @TeaPainUSA: Trump called the former president of the US “cheatin’ Obama.”  Trump’s ex-wives, mistresses and sexual harassment victims c…\" 48 3866\\n',\n",
       " 'GradyHughes4 [04/Apr/2018:21:17:56 ] \"Obama will go down in history for first ex president serving prison time or death sentence for treason https://t.co/djFmz5u7Km\" 4113 0\\n',\n",
       " 'marycie48785643 [04/Apr/2018:21:17:56 ] \"@brianklaas @llunaticraven Soy bean products will get cheaper for us ..but it will ruin soy farmers ...sad thing is… https://t.co/McrJcweuBY\" 10 0\\n',\n",
       " 'rondbusa [04/Apr/2018:21:17:55 ] \"RT @buzzman888: 🇺🇸🇺🇸 It\\'s Noticed When Our *Commander In Chief* @POTUS Puts The Best Interests of Our Country And Its People First! The Oba…\" 6826 259\\n',\n",
       " 'mbf6280 [04/Apr/2018:21:17:55 ] \"RT @ChrisLu44: During Obama Admin., there was NEVER EVER any reason to believe that Obama would interfere with award of a government contra…\" 245 7\\n',\n",
       " 'msnavlin [04/Apr/2018:21:17:55 ] \"RT @AmySandspeaks: ROYAL  WEDDING   UPDATE:          Invited to the nuptials- President Obama and First Lady Michelle.  Also invited- Bill…\" 1092 871\\n',\n",
       " 'BrianPaulStuart [04/Apr/2018:21:17:55 ] \"RT @BrianPaulStuart: .@realDonaldTrump:You’re as stupid as you look. Trust me; that’s terribly stupid. This photo of you in the presence o…\" 21679 59\\n',\n",
       " 'MousseauJim [04/Apr/2018:21:17:55 ] \"RT @vabelle2010: Holy $&amp;@$ https://t.co/RAefzBqhv8\" 11441 39\\n',\n",
       " 'Goz_1911 [04/Apr/2018:21:17:55 ] \"RT @CB618444: 🔊#Trumps approval rating jumps 2 51% compared 2 #Obama\\'s at 46% same time on the job.  What\\'s that tell u?  Polls lie, so @PO…\" 12546 58\\n',\n",
       " 'attitudeforty5 [04/Apr/2018:21:17:55 ] \"Who’s the mayor they voted in? Oh that’s right an Obama’s Dem! Rot with your decision you morons!@realDonaldTrump… https://t.co/adATS5SOAH\" 3128 0\\n',\n",
       " 'Karenet24 [04/Apr/2018:21:17:55 ] \"RT @chuckwoolery: I find it interesting and appalling that we have a special counsel Mueller, investigating Trump for every thing we know t…\" 313 1511\\n',\n",
       " 'FightingLA04 [04/Apr/2018:21:17:54 ] \"RT @realDonaldTrump: Do you believe Barack Hussein Obama (aka Barry Soetoro) looked like a president last night? I don\\'t!\" 2721 684\\n',\n",
       " 'GedsySmileee [04/Apr/2018:21:17:54 ] \"RT @nowthisnews: President Obama and civil rights icon John Lewis discussed the importance of social justice on the 50th anniversary of MLK…\" 548 240\\n',\n",
       " 'ben_jasperse [04/Apr/2018:21:17:54 ] \"RT @_VachelLindsay_: This is a bombshell article. MUST read.If true, it reframes the Clinton/Obama framing of Team Trump, as mostly a UK…\" 366 140\\n',\n",
       " 'EeezeePeezee143 [04/Apr/2018:21:17:54 ] \"RT @JudicialWatch: BREAKING: Judicial Watch obtained 32 pages of records showing that the Obama administration sent U.S. taxpayer funds ove…\" 6078 1667\\n',\n",
       " 'cindymcmurtrey [04/Apr/2018:21:17:54 ] \"@WomenforTrump When are they going to get rid of Obama care? It has never work and it never will. No one can afford it!\" 52 0\\n',\n",
       " 'EGysling [04/Apr/2018:21:17:53 ] \"RT @SusanStormXO: #LIVID#Outrageous#Frustrated #Disgusted😡OBAMA DID for illegals what he wouldn’t do for HOMELESS AMERICANS “VETS “ th…\" 645 85\\n',\n",
       " 'Earn_IT_2012 [04/Apr/2018:21:17:53 ] \"RT @MADE__USA: Sara Carter Uncovers New Incriminating FBI Texts That’ll Send the Obama-Era FISA Scandal Into OVERDRIVE https://t.co/QQeFUhD…\" 4184 67\\n',\n",
       " 'tom_tart [04/Apr/2018:21:17:53 ] \"RT @_VachelLindsay_: More and more detail emerging about Obama\\'s covert plan to supply the mullahs in Iran with cash, sanctions relief &amp; no…\" 533 56\\n',\n",
       " 'martylawson [04/Apr/2018:21:17:53 ] \"RT @RandySpate: Judicial Watch: State Department Records Show Obama Administration Helped Fund George Soros’ Left-Wing Political Activities…\" 3998 1\\n',\n",
       " 'blanken01 [04/Apr/2018:21:17:52 ] \"RT @PatriotGeorgia: JUDICIAL WATCH: Records Show Obama Admin Used Millions in Taxpayer Money to Fund Soros\\' Left-Wing Political Activities…\" 7143 3\\n',\n",
       " 'Sheila4USA [04/Apr/2018:21:17:51 ] \"RT @MazurikL: 🔵 President Trump achieves 51% approval rating among likely voters according to Rasmussen Poll. This is higher than Obama at…\" 36996 58\\n',\n",
       " 'Hushes [04/Apr/2018:21:17:51 ] \"RT @crimmigration: So Trump will reportedly send National Guard to border to do what Obama, Bush, and Clinton before him did. Not good poli…\" 2157 2\\n',\n",
       " 'Heleneafernande [04/Apr/2018:21:17:51 ] \"RT @_VachelLindsay_: This is a bombshell article. MUST read.If true, it reframes the Clinton/Obama framing of Team Trump, as mostly a UK…\" 1496 140\\n',\n",
       " 'Sadwings51 [04/Apr/2018:21:17:51 ] \"RT @ObamaFoundation: This week—50 years since Dr. Martin Luther King, Jr. was killed—@BarackObama and @RepJohnLewis sat down with a group o…\" 2135 8553\\n',\n",
       " 'LemonyLittle [04/Apr/2018:21:17:51 ] \"RT @JustSchmeltzer: @PeterAlexander The 2009 Obama plan is the Trump border wall??\" 1216 49\\n',\n",
       " 'ckensingtn [04/Apr/2018:21:17:50 ] \"RT @IWillRedPillU: I just want to make sure I understand thisYouTube ShooterIranianProbably HezbollahInsanely CrazyCame in Under Obama…\" 8513 629\\n',\n",
       " 'arc7ek [04/Apr/2018:21:17:50 ] \"RT @_VachelLindsay_: More and more detail emerging about Obama\\'s covert plan to supply the mullahs in Iran with cash, sanctions relief &amp; no…\" 950 56\\n',\n",
       " 'snowflakelady [04/Apr/2018:21:17:50 ] \"RT @juryout: @JudicialWatch If there is an attorney out there that wants to sue Soros for me let me know.  Soros should never be allowed in…\" 1659 8\\n',\n",
       " '1_8526 [04/Apr/2018:21:17:50 ] \"RT @realDonaldTrump: Our Border Laws are very weak while those of Mexico &amp; Canada are very strong. Congress must change these Obama era, an…\" 2 18166\\n',\n",
       " '_ese_dave [04/Apr/2018:21:17:50 ] \"RT @BillKristol: Paul Ryan and Mitch McConnell are free traders. McConnell delivered Republican votes to enable Pres. Obama to negotiate fr…\" 76 2183\\n',\n",
       " 'onesheep [04/Apr/2018:21:17:49 ] \"RT @chadfelixg: I was opposed to nearly everything Obama proposed, said, believed or signed into law. I challenged his progressive agenda.…\" 436 52\\n',\n",
       " 'CindyMae65 [04/Apr/2018:21:17:49 ] \"RT @jerome_corsi: PLEASE, enough already SOROS NEVER QUITS now we have \"Net Neutrality\" recycled - trying to sell GOP that this CENSORSHIP…\" 1737 97\\n']"
      ]
     },
     "execution_count": 5,
     "metadata": {},
     "output_type": "execute_result"
    }
   ],
   "source": [
    "contentData"
   ]
  },
  {
   "cell_type": "code",
   "execution_count": 6,
   "metadata": {
    "collapsed": true
   },
   "outputs": [],
   "source": [
    "tweets = []\n",
    "for item in contentData:\n",
    "    temp=[]\n",
    "    tokens = word_tokenize(item)\n",
    "    # fetching data according to the columns\n",
    "    user = tokens[0]\n",
    "    time = datetime.strptime(tokens[2],\"%d/%b/%Y:%H:%M:%S\")\n",
    "    tweetText = ' '.join(tokens[5:len(tokens)-3])\n",
    "    followers = (tokens[len(tokens)-2])\n",
    "    retweetCount = (tokens[len(tokens)-1])\n",
    "    # appending data into array so that I can read into dataframe\n",
    "    temp.append(user)\n",
    "    temp.append(time)\n",
    "    temp.append(tweetText)\n",
    "    temp.append(followers)\n",
    "    temp.append(retweetCount)\n",
    "    tweets.append(temp)"
   ]
  },
  {
   "cell_type": "code",
   "execution_count": 7,
   "metadata": {},
   "outputs": [
    {
     "data": {
      "text/html": [
       "<div>\n",
       "<style>\n",
       "    .dataframe thead tr:only-child th {\n",
       "        text-align: right;\n",
       "    }\n",
       "\n",
       "    .dataframe thead th {\n",
       "        text-align: left;\n",
       "    }\n",
       "\n",
       "    .dataframe tbody tr th {\n",
       "        vertical-align: top;\n",
       "    }\n",
       "</style>\n",
       "<table border=\"1\" class=\"dataframe\">\n",
       "  <thead>\n",
       "    <tr style=\"text-align: right;\">\n",
       "      <th></th>\n",
       "      <th>User</th>\n",
       "      <th>Time</th>\n",
       "      <th>TweetText</th>\n",
       "      <th>Followers</th>\n",
       "      <th>RetweetCount</th>\n",
       "    </tr>\n",
       "  </thead>\n",
       "  <tbody>\n",
       "    <tr>\n",
       "      <th>0</th>\n",
       "      <td>liberalbasher33</td>\n",
       "      <td>2018-04-04 21:18:17</td>\n",
       "      <td>RT @ DrMartyFox : ATTN : # LyingLiberals # Pre...</td>\n",
       "      <td>602</td>\n",
       "      <td>315</td>\n",
       "    </tr>\n",
       "    <tr>\n",
       "      <th>1</th>\n",
       "      <td>FreeSpeechBot</td>\n",
       "      <td>2018-04-04 21:18:17</td>\n",
       "      <td>RT @ MZHemingway : Byron York : Did Obama Whit...</td>\n",
       "      <td>2271</td>\n",
       "      <td>1382</td>\n",
       "    </tr>\n",
       "    <tr>\n",
       "      <th>2</th>\n",
       "      <td>Kcfan51</td>\n",
       "      <td>2018-04-04 21:18:16</td>\n",
       "      <td>RT @ bartmckinley : Judicial Watch : DOJ Recor...</td>\n",
       "      <td>123</td>\n",
       "      <td>23</td>\n",
       "    </tr>\n",
       "    <tr>\n",
       "      <th>3</th>\n",
       "      <td>Adebroutelles</td>\n",
       "      <td>2018-04-04 21:18:16</td>\n",
       "      <td>RT @ Independent : The difference between Trum...</td>\n",
       "      <td>156</td>\n",
       "      <td>19</td>\n",
       "    </tr>\n",
       "    <tr>\n",
       "      <th>4</th>\n",
       "      <td>LIVorLetReiv</td>\n",
       "      <td>2018-04-04 21:18:14</td>\n",
       "      <td>RT @ nowthisnews : President Obama and civil r...</td>\n",
       "      <td>431</td>\n",
       "      <td>242</td>\n",
       "    </tr>\n",
       "  </tbody>\n",
       "</table>\n",
       "</div>"
      ],
      "text/plain": [
       "              User                Time  \\\n",
       "0  liberalbasher33 2018-04-04 21:18:17   \n",
       "1    FreeSpeechBot 2018-04-04 21:18:17   \n",
       "2          Kcfan51 2018-04-04 21:18:16   \n",
       "3    Adebroutelles 2018-04-04 21:18:16   \n",
       "4     LIVorLetReiv 2018-04-04 21:18:14   \n",
       "\n",
       "                                           TweetText Followers RetweetCount  \n",
       "0  RT @ DrMartyFox : ATTN : # LyingLiberals # Pre...       602          315  \n",
       "1  RT @ MZHemingway : Byron York : Did Obama Whit...      2271         1382  \n",
       "2  RT @ bartmckinley : Judicial Watch : DOJ Recor...       123           23  \n",
       "3  RT @ Independent : The difference between Trum...       156           19  \n",
       "4  RT @ nowthisnews : President Obama and civil r...       431          242  "
      ]
     },
     "execution_count": 7,
     "metadata": {},
     "output_type": "execute_result"
    }
   ],
   "source": [
    "dataframe = pd.DataFrame(tweets, columns=['User', 'Time','TweetText','Followers','RetweetCount'])\n",
    "dataframe.head()"
   ]
  },
  {
   "cell_type": "markdown",
   "metadata": {},
   "source": [
    "### a.\tThe top n users who have tweeted the most for the entire timeline."
   ]
  },
  {
   "cell_type": "markdown",
   "metadata": {},
   "source": [
    "#### References : \n",
    "https://stackoverflow.com/questions/19384532/how-to-count-number-of-rows-in-a-group-in-pandas-group-by-object\n",
    "https://pandas.pydata.org/pandas-docs/stable/generated/pandas.DataFrame.sort_values.html"
   ]
  },
  {
   "cell_type": "code",
   "execution_count": 8,
   "metadata": {},
   "outputs": [
    {
     "data": {
      "text/html": [
       "<div>\n",
       "<style>\n",
       "    .dataframe thead tr:only-child th {\n",
       "        text-align: right;\n",
       "    }\n",
       "\n",
       "    .dataframe thead th {\n",
       "        text-align: left;\n",
       "    }\n",
       "\n",
       "    .dataframe tbody tr th {\n",
       "        vertical-align: top;\n",
       "    }\n",
       "</style>\n",
       "<table border=\"1\" class=\"dataframe\">\n",
       "  <thead>\n",
       "    <tr style=\"text-align: right;\">\n",
       "      <th></th>\n",
       "      <th>User</th>\n",
       "      <th>no_of_tweet_counts</th>\n",
       "    </tr>\n",
       "  </thead>\n",
       "  <tbody>\n",
       "    <tr>\n",
       "      <th>54</th>\n",
       "      <td>arc7ek</td>\n",
       "      <td>2</td>\n",
       "    </tr>\n",
       "    <tr>\n",
       "      <th>39</th>\n",
       "      <td>Kcfan51</td>\n",
       "      <td>2</td>\n",
       "    </tr>\n",
       "    <tr>\n",
       "      <th>0</th>\n",
       "      <td>1_8526</td>\n",
       "      <td>1</td>\n",
       "    </tr>\n",
       "    <tr>\n",
       "      <th>62</th>\n",
       "      <td>ckensingtn</td>\n",
       "      <td>1</td>\n",
       "    </tr>\n",
       "    <tr>\n",
       "      <th>71</th>\n",
       "      <td>irishgilly</td>\n",
       "      <td>1</td>\n",
       "    </tr>\n",
       "  </tbody>\n",
       "</table>\n",
       "</div>"
      ],
      "text/plain": [
       "          User  no_of_tweet_counts\n",
       "54      arc7ek                   2\n",
       "39     Kcfan51                   2\n",
       "0       1_8526                   1\n",
       "62  ckensingtn                   1\n",
       "71  irishgilly                   1"
      ]
     },
     "execution_count": 8,
     "metadata": {},
     "output_type": "execute_result"
    }
   ],
   "source": [
    "tp = dataframe.groupby(['User']).size().reset_index(name='no_of_tweet_counts')\n",
    "tp = tp.sort_values(by = tp.columns[1],ascending = False)\n",
    "tp.to_csv('topNusers.csv')\n",
    "tp.head()"
   ]
  },
  {
   "cell_type": "markdown",
   "metadata": {},
   "source": [
    "### b. The top n users who have tweeted the most for every hour."
   ]
  },
  {
   "cell_type": "markdown",
   "metadata": {},
   "source": [
    "#### References : \n",
    "https://stackoverflow.com/questions/16923281/pandas-writing-dataframe-to-csv-file\n",
    "https://pythonconquerstheuniverse.wordpress.com/2011/08/29/lambda_tutorial/"
   ]
  },
  {
   "cell_type": "code",
   "execution_count": 9,
   "metadata": {},
   "outputs": [
    {
     "data": {
      "text/html": [
       "<div>\n",
       "<style>\n",
       "    .dataframe thead tr:only-child th {\n",
       "        text-align: right;\n",
       "    }\n",
       "\n",
       "    .dataframe thead th {\n",
       "        text-align: left;\n",
       "    }\n",
       "\n",
       "    .dataframe tbody tr th {\n",
       "        vertical-align: top;\n",
       "    }\n",
       "</style>\n",
       "<table border=\"1\" class=\"dataframe\">\n",
       "  <thead>\n",
       "    <tr style=\"text-align: right;\">\n",
       "      <th></th>\n",
       "      <th>User</th>\n",
       "      <th>no_of_tweet_counts</th>\n",
       "    </tr>\n",
       "  </thead>\n",
       "  <tbody>\n",
       "    <tr>\n",
       "      <th>54</th>\n",
       "      <td>arc7ek</td>\n",
       "      <td>2</td>\n",
       "    </tr>\n",
       "    <tr>\n",
       "      <th>39</th>\n",
       "      <td>Kcfan51</td>\n",
       "      <td>2</td>\n",
       "    </tr>\n",
       "    <tr>\n",
       "      <th>48</th>\n",
       "      <td>Sadwings51</td>\n",
       "      <td>1</td>\n",
       "    </tr>\n",
       "    <tr>\n",
       "      <th>11</th>\n",
       "      <td>CindyMae65</td>\n",
       "      <td>1</td>\n",
       "    </tr>\n",
       "    <tr>\n",
       "      <th>2</th>\n",
       "      <td>Adebroutelles</td>\n",
       "      <td>1</td>\n",
       "    </tr>\n",
       "  </tbody>\n",
       "</table>\n",
       "</div>"
      ],
      "text/plain": [
       "             User  no_of_tweet_counts\n",
       "54         arc7ek                   2\n",
       "39        Kcfan51                   2\n",
       "48     Sadwings51                   1\n",
       "11     CindyMae65                   1\n",
       "2   Adebroutelles                   1"
      ]
     },
     "execution_count": 9,
     "metadata": {},
     "output_type": "execute_result"
    }
   ],
   "source": [
    "# Here I have used python lamda function to fetch hour from datatime object and appended same to the dataframe\n",
    "dataframe[\"Hour\"] = dataframe[\"Time\"].apply(lambda time:time.hour).astype(int).astype(str)\n",
    "\n",
    "# fetching all hours from data then interative through for loop for each hour data\n",
    "\n",
    "totalHours = dataframe['Hour']\n",
    "totalHours.head()\n",
    "\n",
    "hoursData = []\n",
    "for dayhour in totalHours:\n",
    "    hoursData.append(str(dayhour))\n",
    "\n",
    "for everyHour in hoursData:\n",
    "    tp1 = dataframe.loc[dataframe['Hour'] == everyHour]\n",
    "    tp1 = dataframe.groupby(['User']).size().reset_index(name='no_of_tweet_counts')\n",
    "    tp1 = tp.sort_values(by = tp1.columns[1],ascending = False)\n",
    "    tp1.to_csv('HourNo'+everyHour+'.csv')\n",
    "tp1.head()"
   ]
  },
  {
   "cell_type": "markdown",
   "metadata": {},
   "source": [
    "### c.\tThe top n users who have the maximum followers."
   ]
  },
  {
   "cell_type": "markdown",
   "metadata": {},
   "source": [
    "#### References\n",
    "https://stackoverflow.com/questions/39173813/pandas-convert-dtype-object-to-int\n"
   ]
  },
  {
   "cell_type": "code",
   "execution_count": 14,
   "metadata": {},
   "outputs": [
    {
     "data": {
      "text/html": [
       "<div>\n",
       "<style>\n",
       "    .dataframe thead tr:only-child th {\n",
       "        text-align: right;\n",
       "    }\n",
       "\n",
       "    .dataframe thead th {\n",
       "        text-align: left;\n",
       "    }\n",
       "\n",
       "    .dataframe tbody tr th {\n",
       "        vertical-align: top;\n",
       "    }\n",
       "</style>\n",
       "<table border=\"1\" class=\"dataframe\">\n",
       "  <thead>\n",
       "    <tr style=\"text-align: right;\">\n",
       "      <th></th>\n",
       "      <th>User</th>\n",
       "      <th>Followers</th>\n",
       "      <th>0</th>\n",
       "    </tr>\n",
       "  </thead>\n",
       "  <tbody>\n",
       "    <tr>\n",
       "      <th>50</th>\n",
       "      <td>TalibKweli</td>\n",
       "      <td>1148701</td>\n",
       "      <td>1</td>\n",
       "    </tr>\n",
       "    <tr>\n",
       "      <th>49</th>\n",
       "      <td>Sheila4USA</td>\n",
       "      <td>36996</td>\n",
       "      <td>1</td>\n",
       "    </tr>\n",
       "    <tr>\n",
       "      <th>9</th>\n",
       "      <td>BrianPaulStuart</td>\n",
       "      <td>21679</td>\n",
       "      <td>1</td>\n",
       "    </tr>\n",
       "    <tr>\n",
       "      <th>25</th>\n",
       "      <td>Goz_1911</td>\n",
       "      <td>12546</td>\n",
       "      <td>1</td>\n",
       "    </tr>\n",
       "    <tr>\n",
       "      <th>97</th>\n",
       "      <td>whereisjustice0</td>\n",
       "      <td>11785</td>\n",
       "      <td>1</td>\n",
       "    </tr>\n",
       "  </tbody>\n",
       "</table>\n",
       "</div>"
      ],
      "text/plain": [
       "               User  Followers  0\n",
       "50       TalibKweli    1148701  1\n",
       "49       Sheila4USA      36996  1\n",
       "9   BrianPaulStuart      21679  1\n",
       "25         Goz_1911      12546  1\n",
       "97  whereisjustice0      11785  1"
      ]
     },
     "execution_count": 14,
     "metadata": {},
     "output_type": "execute_result"
    }
   ],
   "source": [
    "tp2 = dataframe.groupby(['User','Followers']).size().reset_index()\n",
    "val = tp2['Followers']\n",
    "# Here followers data type is object so we need to convert it to int to sort values for it\n",
    "tp2['Followers'] = tp2['Followers'].astype(str).astype(int)\n",
    "tp2 = tp2.sort_values(by = ['Followers'],ascending=False).head()\n",
    "tp2.to_csv('topNUser_MaxFollowers.csv')\n",
    "tp2.head()"
   ]
  },
  {
   "cell_type": "markdown",
   "metadata": {},
   "source": [
    "### d.\tThe top n tweets which have the maximum retweet count"
   ]
  },
  {
   "cell_type": "code",
   "execution_count": 15,
   "metadata": {},
   "outputs": [
    {
     "data": {
      "text/html": [
       "<div>\n",
       "<style>\n",
       "    .dataframe thead tr:only-child th {\n",
       "        text-align: right;\n",
       "    }\n",
       "\n",
       "    .dataframe thead th {\n",
       "        text-align: left;\n",
       "    }\n",
       "\n",
       "    .dataframe tbody tr th {\n",
       "        vertical-align: top;\n",
       "    }\n",
       "</style>\n",
       "<table border=\"1\" class=\"dataframe\">\n",
       "  <thead>\n",
       "    <tr style=\"text-align: right;\">\n",
       "      <th></th>\n",
       "      <th>TweetText</th>\n",
       "      <th>RetweetCount</th>\n",
       "      <th>0</th>\n",
       "    </tr>\n",
       "  </thead>\n",
       "  <tbody>\n",
       "    <tr>\n",
       "      <th>78</th>\n",
       "      <td>RT @ realDonaldTrump : Our Border Laws are ver...</td>\n",
       "      <td>18166</td>\n",
       "      <td>4</td>\n",
       "    </tr>\n",
       "    <tr>\n",
       "      <th>44</th>\n",
       "      <td>RT @ OliverMcGee : Retweet so your friends see...</td>\n",
       "      <td>17212</td>\n",
       "      <td>1</td>\n",
       "    </tr>\n",
       "    <tr>\n",
       "      <th>43</th>\n",
       "      <td>RT @ ObamaFoundation : This week—50 years sinc...</td>\n",
       "      <td>8553</td>\n",
       "      <td>3</td>\n",
       "    </tr>\n",
       "    <tr>\n",
       "      <th>42</th>\n",
       "      <td>RT @ NormEisen : Ms. Strassel , that tweet is ...</td>\n",
       "      <td>8178</td>\n",
       "      <td>1</td>\n",
       "    </tr>\n",
       "    <tr>\n",
       "      <th>66</th>\n",
       "      <td>RT @ charliekirk11 : Obama approval rating 4/2...</td>\n",
       "      <td>7493</td>\n",
       "      <td>1</td>\n",
       "    </tr>\n",
       "  </tbody>\n",
       "</table>\n",
       "</div>"
      ],
      "text/plain": [
       "                                            TweetText  RetweetCount  0\n",
       "78  RT @ realDonaldTrump : Our Border Laws are ver...         18166  4\n",
       "44  RT @ OliverMcGee : Retweet so your friends see...         17212  1\n",
       "43  RT @ ObamaFoundation : This week—50 years sinc...          8553  3\n",
       "42  RT @ NormEisen : Ms. Strassel , that tweet is ...          8178  1\n",
       "66  RT @ charliekirk11 : Obama approval rating 4/2...          7493  1"
      ]
     },
     "execution_count": 15,
     "metadata": {},
     "output_type": "execute_result"
    }
   ],
   "source": [
    "# Here we need to do it tweet wise\n",
    "tp3 = dataframe.groupby(['TweetText','RetweetCount']).size().reset_index()\n",
    "tp3['RetweetCount'] = tp3['RetweetCount'].astype(str).astype(int)\n",
    "result = tp3.sort_values(by = ['RetweetCount'],ascending=False)\n",
    "result.to_csv('topNtweets_MaxRetweetCount.csv')\n",
    "result.head()"
   ]
  }
 ],
 "metadata": {
  "kernelspec": {
   "display_name": "Python 3",
   "language": "python",
   "name": "python3"
  },
  "language_info": {
   "codemirror_mode": {
    "name": "ipython",
    "version": 3
   },
   "file_extension": ".py",
   "mimetype": "text/x-python",
   "name": "python",
   "nbconvert_exporter": "python",
   "pygments_lexer": "ipython3",
   "version": "3.6.1"
  }
 },
 "nbformat": 4,
 "nbformat_minor": 2
}
